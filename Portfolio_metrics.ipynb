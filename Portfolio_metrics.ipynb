{
 "cells": [
  {
   "cell_type": "code",
   "execution_count": 1,
   "metadata": {},
   "outputs": [],
   "source": [
    "import yfinance as yf\n",
    "import datetime as dt\n",
    "import pandas as pd\n",
    "import numpy as np\n",
    "import math as math\n",
    "import matplotlib.pyplot as plt\n",
    "import re"
   ]
  },
  {
   "cell_type": "markdown",
   "metadata": {},
   "source": [
    "### Enter the inputs below:"
   ]
  },
  {
   "cell_type": "code",
   "execution_count": 2,
   "metadata": {},
   "outputs": [],
   "source": [
    "ticker = \"^STI\" # Does not handle currency conversion so do not mix stocks here\n",
    "benchmark_index = \"SPY\"\n",
    "start_date = \"2020-01-01\" #YYYY-MM-DD\n",
    "end_date = dt.date.today()\n",
    "start_val = 100000 # Just keep this if you are not looking at your portfolio value\n",
    "rf = 0.0 # Define Risk Free Rate "
   ]
  },
  {
   "cell_type": "markdown",
   "metadata": {},
   "source": [
    "### Get data from Yahoo Finance"
   ]
  },
  {
   "cell_type": "code",
   "execution_count": 3,
   "metadata": {},
   "outputs": [
    {
     "name": "stdout",
     "output_type": "stream",
     "text": [
      "[*********************100%***********************]  1 of 1 completed\n",
      "[*********************100%***********************]  1 of 1 completed\n"
     ]
    }
   ],
   "source": [
    "df = yf.download(ticker, start=start_date, end=end_date)[\"Adj Close\"]\n",
    "df_index = yf.download(benchmark_index, start=start_date, end=end_date)[\"Adj Close\"]\n",
    "\n",
    "df = df.ffill().bfill()\n",
    "df_index = df_index.ffill().bfill()\n",
    "\n",
    "#print(df.head())"
   ]
  },
  {
   "cell_type": "markdown",
   "metadata": {},
   "source": [
    "### Calculate portfolio distribution and create dict mapping"
   ]
  },
  {
   "cell_type": "code",
   "execution_count": 4,
   "metadata": {},
   "outputs": [],
   "source": [
    "port_list = str.split(ticker)\n",
    "port_name = {i : yf.Ticker(i).info['shortName'] for i in port_list}\n",
    "index_name = yf.Ticker(benchmark_index).info['shortName']"
   ]
  },
  {
   "cell_type": "code",
   "execution_count": 5,
   "metadata": {},
   "outputs": [
    {
     "data": {
      "text/plain": [
       "{'^STI': 1.0}"
      ]
     },
     "execution_count": 5,
     "metadata": {},
     "output_type": "execute_result"
    }
   ],
   "source": [
    "sv = start_val\n",
    "num_stocks = df.shape[1] if len(port_name)>1 else 1\n",
    "equal_weight = [round(1/num_stocks, 3)]*num_stocks\n",
    "pct_alloc = [0.4, 0.1, 0.1, 0.1, 0.1, 0.1, 0.1] # Update your percentage allocation here\n",
    "alloc_dict = dict(zip(port_list, equal_weight)) # replace pct_alloc with equal weight to evenly distribute the starting value\n",
    "alloc_dict"
   ]
  },
  {
   "cell_type": "markdown",
   "metadata": {},
   "source": [
    "### Create DF and Compute Individual Stock Metrics"
   ]
  },
  {
   "cell_type": "code",
   "execution_count": 6,
   "metadata": {},
   "outputs": [],
   "source": [
    "def compute_portfolio_metrics(df, port_list, alloc_dict): \n",
    "    cr= []\n",
    "    idx = []\n",
    "    sr = []\n",
    "    sdv = []\n",
    "    sp = []\n",
    "    ep = []\n",
    "    name = []\n",
    "    asd = []\n",
    "\n",
    "    if len(port_list) <= 1:\n",
    "        sd, sharpe_ratio, ave_daily_ret, cumulative_returns, annualized_sd = compute_port_stats(df)\n",
    "        start_price = round(df[0],2)\n",
    "        end_price = round(df[-1],2)\n",
    "        \n",
    "        idx.append(port_list[0])\n",
    "        cr.append(round(cumulative_returns * 100,3))\n",
    "        sr.append(round(sharpe_ratio,3))\n",
    "        sdv.append(round(sd*100,3))\n",
    "        sp.append(start_price)\n",
    "        ep.append(end_price)\n",
    "        asd.append(round(annualized_sd*100,3))\n",
    "        name.append(port_name.get(port_list[0]))\n",
    "        \n",
    "        data = list(zip(idx, name, sp, ep, cr,sr,sdv, asd))\n",
    "    \n",
    "    else: \n",
    "        for i in df.columns:\n",
    "            df_norm = df.copy()\n",
    "            df_norm[i] = df[i]/ df[i].iloc[0] #normalize prices\n",
    "            daily_returns = df_norm[i] / df_norm[i].shift(1) - 1\n",
    "            cumulative_returns = df_norm[i][-1]/df_norm[i][0] - 1\n",
    "            sd =  daily_returns.std()\n",
    "            annualized_sd = np.sqrt(252) * sd\n",
    "            ave_daily_ret = daily_returns.mean()\n",
    "            risk_free = rf\n",
    "            sharpe_ratio = np.sqrt(252) * ((daily_returns - risk_free).mean())/sd\n",
    "            start_price = round(df[i][0],2)\n",
    "            end_price = round(df[i][-1],2)\n",
    "\n",
    "            idx.append(i)\n",
    "            cr.append(round(cumulative_returns * 100,3))\n",
    "            sr.append(round(sharpe_ratio,3))\n",
    "            sdv.append(round(sd*100,3))\n",
    "            sp.append(start_price)\n",
    "            ep.append(end_price)\n",
    "            asd.append(round(annualized_sd*100,3))\n",
    "            name.append(port_name.get(i))\n",
    "        \n",
    "        data = list(zip(idx, name, sp, ep, cr,sr,sdv, asd))\n",
    "    \n",
    "       \n",
    "    df_view = pd.DataFrame(data, columns=[\"Symbol\", \"Name\", \"Start_Price\", \"Last_Price\", \"Cumulative Return (%)\",\"Sharpe Ratio\", \"Daily SD (%)\", \"Annualized SD (%)\"])\n",
    "    df_view.set_index(\"Symbol\", inplace=True)\n",
    "    df_view.sort_values(by = \"Cumulative Return (%)\", axis=0, inplace=True, ascending=False)\n",
    "\n",
    "    # Compute stock value from dict mapping\n",
    "    amt_stock_alloc = {i: alloc_dict.get(i) * sv for i in port_list}\n",
    "    #print(amt_stock_alloc)\n",
    "    num_shares = []\n",
    "    val = []\n",
    "    #print(amt_stock_alloc[0])\n",
    "\n",
    "    for i, row in df_view.iterrows():\n",
    "        #print(row[\"Start_Price\"])\n",
    "        ns = math.floor((amt_stock_alloc.get(i)/row[\"Start_Price\"])) # Round down to the nearest number of shares you can buy based on the allocated amount\n",
    "        num_shares.append(ns)\n",
    "\n",
    "    df_view[\"Num of Shares\"] = num_shares\n",
    "    df_view[\"Start Value\"] = df_view[\"Start_Price\"]*df_view[\"Num of Shares\"]\n",
    "    s_total = sum(df_view[\"Start Value\"])\n",
    "    df_view[\"% of Start Portfolio\"] = round(df_view[\"Start Value\"]/s_total*100,2)\n",
    "\n",
    "    df_view[\"End Value\"] = df_view[\"Last_Price\"]*df_view[\"Num of Shares\"]\n",
    "    e_total = sum(df_view[\"End Value\"])\n",
    "    df_view[\"% of Current Portfolio\"] = round(df_view[\"End Value\"]/e_total*100,2)\n",
    "\n",
    "    df_view[\"Profit/Loss(-)\"] = df_view[\"End Value\"] - df_view['Start Value']\n",
    "    \n",
    "    return df_view"
   ]
  },
  {
   "cell_type": "code",
   "execution_count": 7,
   "metadata": {},
   "outputs": [],
   "source": [
    "def compute_port_stats(df_input):\n",
    "    df_norm = df_input.copy().ffill().bfill()\n",
    "    df_norm = df_input/ df_input[0] #normalize prices\n",
    "    daily_returns = df_norm / df_norm.shift(1) - 1 #today price/yesterday price - 1\n",
    "    cumulative_returns = df_norm[-1]/df_norm[0] - 1\n",
    "    sd =  daily_returns.std()\n",
    "    annualized_sd = np.sqrt(252) * sd\n",
    "    ave_daily_ret = daily_returns.mean()\n",
    "    risk_free = rf\n",
    "    sharpe_ratio = np.sqrt(252) * ((daily_returns - risk_free).mean())/sd\n",
    "    start_val = round(df_norm[0],2)\n",
    "    end_val = round(df_norm[-1],2)\n",
    "    \n",
    "    return sd, sharpe_ratio, ave_daily_ret, cumulative_returns, annualized_sd"
   ]
  },
  {
   "cell_type": "markdown",
   "metadata": {},
   "source": [
    "### Compute Portfolio Value"
   ]
  },
  {
   "cell_type": "code",
   "execution_count": 8,
   "metadata": {},
   "outputs": [],
   "source": [
    "def compute_port_val(df, df_view, port_list):\n",
    "    df_port = df.copy()\n",
    "    df_portval = df_port.copy()\n",
    "    df_portval[:] = 0.0\n",
    "    if len(port_list) <= 1:\n",
    "        df_ns = df_view[\"Num of Shares\"][0]\n",
    "        df_portval = df_port * df_ns\n",
    "        \n",
    "    else:    \n",
    "        df_ns = df_view[\"Num of Shares\"]\n",
    "        for idx, r in df_portval.iterrows():\n",
    "            for c in df_portval.columns:\n",
    "                df_portval.loc[idx, c] = df_port.loc[idx, c] * df_ns[c]\n",
    "\n",
    "        df_portval[\"Port_Val\"] = df_portval.sum(axis=1)\n",
    "        df_portval = df_portval[\"Port_Val\"]\n",
    "    \n",
    "    #port_sd, port_sharpe_ratio, port_ave_daily_return, port_cum_ret, port_annual_sd = compute_port_stats(df_portval[\"Port_Val\"])\n",
    "    #bm_sd, bm_sharpe_ratio, bm_ave_daily_return, bm_cum_ret, bm_annual_sd = compute_port_stats(df_index)\n",
    "    #print(\"Your starting port is {}\".format(df_portval[0])\n",
    "    #print(df_portval[\"Port_Val\"].tail(2))\n",
    "    \n",
    "    return df_portval"
   ]
  },
  {
   "cell_type": "markdown",
   "metadata": {},
   "source": [
    "### Generate Report"
   ]
  },
  {
   "cell_type": "code",
   "execution_count": 9,
   "metadata": {},
   "outputs": [],
   "source": [
    "def run_report(df_view, df_index, df_portval):\n",
    "    \n",
    "    port_sd, port_sharpe_ratio, port_ave_daily_return, port_cum_ret, port_annual_sd = compute_port_stats(df_portval)\n",
    "    bm_sd, bm_sharpe_ratio, bm_ave_daily_return, bm_cum_ret, bm_annual_sd = compute_port_stats(df_index)\n",
    "    \n",
    "    print(\"Start Date: {}\".format(start_date))\n",
    "    print(\"End Date: {}\".format(end_date))\n",
    "    print(\"\")\n",
    "    print(\"Your Portfolio starting value is ${}\".format(round(sum(df_view[\"Start Value\"]),2)))\n",
    "    print(\"Your Portfolio current value is ${}\".format(round(sum(df_view[\"End Value\"]),2)))\n",
    "    print(\"Your Portfolio profit/loss(-) is ${}\".format(round(sum(df_view[\"Profit/Loss(-)\"]),2)))\n",
    "    print(\"\")\n",
    "    print(\"Your Portfolio cumulative return is {}%\".format(round(port_cum_ret*100,3)))\n",
    "    print(\"Benchmark Index {} cumulative return is {}%\".format(benchmark_index, round(bm_cum_ret*100,3)))\n",
    "    print(\"\")\n",
    "    print(\"Your Portfolio ave standard deviation is {}%\".format(round(port_sd*100,3)))\n",
    "    print(\"Benchmark Index {} ave standard deviation is {}%\".format(benchmark_index, round(bm_sd*100,3)))\n",
    "    print(\"\")\n",
    "    print(\"Your Portfolio annualized volatility is {}%\".format(round(port_annual_sd*100,3)))\n",
    "    print(\"Benchmark Index {} annualized volatility is {}%\".format(benchmark_index, round(bm_annual_sd*100,3)))\n",
    "    print(\"\")\n",
    "    print(\"Your Portfolio Sharpe Ratio is {}\".format(round(port_sharpe_ratio,3)))\n",
    "    print(\"Benchmark Index {} Sharpe Ratio is {}\".format(benchmark_index, round(bm_sharpe_ratio,3)))\n",
    "    print(\"\")\n",
    "    print(\"Your Porfolio consists of {} holdings: {}\".format(len(port_list), list(port_name.values())))\n",
    "    print(\"The Benchmark Index is {}\".format(index_name))\n",
    "    print(\"\")\n",
    "    \n",
    "    port_norm = df_portval/df_portval.iloc[0]\n",
    "    index_norm = df_index/df_index[0]\n",
    "    plt.figure(figsize=[14,8])\n",
    "    plt.plot(port_norm, color='blue', label = \"Portfolio Value\")\n",
    "    plt.plot(index_norm, color='green', label = \"Index Benchmark Value\" )\n",
    "    plt.title(\"Portfolio vs Index Normalized Value\")\n",
    "    plt.ylabel(\"Normalized Value\")\n",
    "    plt.xticks(rotation=30)\n",
    "    plt.grid()\n",
    "    plt.legend()\n",
    "    "
   ]
  },
  {
   "cell_type": "markdown",
   "metadata": {},
   "source": [
    "### Get Portfolio Stats"
   ]
  },
  {
   "cell_type": "code",
   "execution_count": 10,
   "metadata": {},
   "outputs": [
    {
     "name": "stdout",
     "output_type": "stream",
     "text": [
      "Start Date: 2020-01-01\n",
      "End Date: 2020-12-16\n",
      "\n",
      "Your Portfolio starting value is $97560.0\n",
      "Your Portfolio current value is $85701.6\n",
      "Your Portfolio profit/loss(-) is $-11858.4\n",
      "\n",
      "Your Portfolio cumulative return is -12.155%\n",
      "Benchmark Index SPY cumulative return is 16.477%\n",
      "\n",
      "Your Portfolio ave standard deviation is 1.566%\n",
      "Benchmark Index SPY ave standard deviation is 2.15%\n",
      "\n",
      "Your Portfolio annualized volatility is 24.853%\n",
      "Benchmark Index SPY annualized volatility is 34.126%\n",
      "\n",
      "Your Portfolio Sharpe Ratio is -0.427\n",
      "Benchmark Index SPY Sharpe Ratio is 0.637\n",
      "\n",
      "Your Porfolio consists of 1 holdings: ['STI Index']\n",
      "The Benchmark Index is SPDR S&P 500\n",
      "\n"
     ]
    },
    {
     "data": {
      "text/html": [
       "<div>\n",
       "<style scoped>\n",
       "    .dataframe tbody tr th:only-of-type {\n",
       "        vertical-align: middle;\n",
       "    }\n",
       "\n",
       "    .dataframe tbody tr th {\n",
       "        vertical-align: top;\n",
       "    }\n",
       "\n",
       "    .dataframe thead th {\n",
       "        text-align: right;\n",
       "    }\n",
       "</style>\n",
       "<table border=\"1\" class=\"dataframe\">\n",
       "  <thead>\n",
       "    <tr style=\"text-align: right;\">\n",
       "      <th></th>\n",
       "      <th>Name</th>\n",
       "      <th>Start_Price</th>\n",
       "      <th>Last_Price</th>\n",
       "      <th>Cumulative Return (%)</th>\n",
       "      <th>Sharpe Ratio</th>\n",
       "      <th>Daily SD (%)</th>\n",
       "      <th>Annualized SD (%)</th>\n",
       "      <th>Num of Shares</th>\n",
       "      <th>Start Value</th>\n",
       "      <th>% of Start Portfolio</th>\n",
       "      <th>End Value</th>\n",
       "      <th>% of Current Portfolio</th>\n",
       "      <th>Profit/Loss(-)</th>\n",
       "    </tr>\n",
       "    <tr>\n",
       "      <th>Symbol</th>\n",
       "      <th></th>\n",
       "      <th></th>\n",
       "      <th></th>\n",
       "      <th></th>\n",
       "      <th></th>\n",
       "      <th></th>\n",
       "      <th></th>\n",
       "      <th></th>\n",
       "      <th></th>\n",
       "      <th></th>\n",
       "      <th></th>\n",
       "      <th></th>\n",
       "      <th></th>\n",
       "    </tr>\n",
       "  </thead>\n",
       "  <tbody>\n",
       "    <tr>\n",
       "      <th>^STI</th>\n",
       "      <td>STI Index</td>\n",
       "      <td>3252.0</td>\n",
       "      <td>2856.72</td>\n",
       "      <td>-12.155</td>\n",
       "      <td>-0.427</td>\n",
       "      <td>1.566</td>\n",
       "      <td>24.853</td>\n",
       "      <td>30</td>\n",
       "      <td>97560.0</td>\n",
       "      <td>100.0</td>\n",
       "      <td>85701.6</td>\n",
       "      <td>100.0</td>\n",
       "      <td>-11858.4</td>\n",
       "    </tr>\n",
       "  </tbody>\n",
       "</table>\n",
       "</div>"
      ],
      "text/plain": [
       "             Name  Start_Price  Last_Price  Cumulative Return (%)  \\\n",
       "Symbol                                                              \n",
       "^STI    STI Index       3252.0     2856.72                -12.155   \n",
       "\n",
       "        Sharpe Ratio  Daily SD (%)  Annualized SD (%)  Num of Shares  \\\n",
       "Symbol                                                                 \n",
       "^STI          -0.427         1.566             24.853             30   \n",
       "\n",
       "        Start Value  % of Start Portfolio  End Value  % of Current Portfolio  \\\n",
       "Symbol                                                                         \n",
       "^STI        97560.0                 100.0    85701.6                   100.0   \n",
       "\n",
       "        Profit/Loss(-)  \n",
       "Symbol                  \n",
       "^STI          -11858.4  "
      ]
     },
     "execution_count": 10,
     "metadata": {},
     "output_type": "execute_result"
    },
    {
     "data": {
      "image/png": "[encoded data removed]",
      "text/plain": [
       "<Figure size 1008x576 with 1 Axes>"
      ]
     },
     "metadata": {
      "needs_background": "light"
     },
     "output_type": "display_data"
    }
   ],
   "source": [
    "df_view = compute_portfolio_metrics(df, port_list, alloc_dict)\n",
    "df_portval = compute_port_val(df, df_view, port_list)\n",
    "run_report(df_view, df_index, df_portval)\n",
    "\n",
    "df_view"
   ]
  },
  {
   "cell_type": "code",
   "execution_count": null,
   "metadata": {},
   "outputs": [],
   "source": []
  },
  {
   "cell_type": "code",
   "execution_count": null,
   "metadata": {},
   "outputs": [],
   "source": []
  }
 ],
 "metadata": {
  "kernelspec": {
   "display_name": "Python 3",
   "language": "python",
   "name": "python3"
  },
  "language_info": {
   "codemirror_mode": {
    "name": "ipython",
    "version": 3
   },
   "file_extension": ".py",
   "mimetype": "text/x-python",
   "name": "python",
   "nbconvert_exporter": "python",
   "pygments_lexer": "ipython3",
   "version": "3.7.9"
  }
 },
 "nbformat": 4,
 "nbformat_minor": 4
}
